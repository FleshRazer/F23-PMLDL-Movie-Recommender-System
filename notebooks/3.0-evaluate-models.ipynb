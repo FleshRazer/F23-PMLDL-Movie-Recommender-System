{
 "cells": [
  {
   "cell_type": "markdown",
   "metadata": {},
   "source": [
    "# Evaluate Models"
   ]
  },
  {
   "cell_type": "code",
   "execution_count": 14,
   "metadata": {},
   "outputs": [],
   "source": [
    "from collections import defaultdict\n",
    "\n",
    "from pathlib import Path\n",
    "from pandas import read_csv\n",
    "from rectools.metrics import NDCG, Precision\n",
    "\n",
    "K = 10\n",
    "FOLD_NUM = 5"
   ]
  },
  {
   "cell_type": "code",
   "execution_count": 2,
   "metadata": {},
   "outputs": [
    {
     "name": "stdout",
     "output_type": "stream",
     "text": [
      "/Users/danilandreev/Desktop/F23-PMLDL-Movie-Recommender-System\n"
     ]
    }
   ],
   "source": [
    "# Change directory to repository root\n",
    "%cd ../"
   ]
  },
  {
   "cell_type": "code",
   "execution_count": 3,
   "metadata": {},
   "outputs": [],
   "source": [
    "from rectools import Columns\n",
    "from typing import Optional\n",
    "from pandas import DataFrame\n",
    "\n",
    "\n",
    "def get_ml_100k_df(dataset_path: str, split: str = \"train\") -> Optional[DataFrame]:\n",
    "    \"\"\"\n",
    "    Read a MovieLens 100k dataset and return a DataFrame.\n",
    "\n",
    "    Args:\n",
    "        dataset_path (str): The path to the dataset file.\n",
    "        split (str, optional): Specifies whether to read 'train' or 'test' split. Default is 'train'.\n",
    "\n",
    "    Returns:\n",
    "        Optional[pd.DataFrame]: Returns a DataFrame containing the specified split of the dataset.\n",
    "        Returns None if 'split' is neither 'train' nor 'test'.\n",
    "\n",
    "    Raises:\n",
    "        FileNotFoundError: If the dataset file is not found.\n",
    "        ValueError: If an invalid 'split' value is provided.\n",
    "\n",
    "    Examples:\n",
    "        # Read 'train' split of the dataset\n",
    "        train_data = get_ml_100k_df('path/to/train_data.csv', split='train')\n",
    "\n",
    "        # Read 'test' split of the dataset\n",
    "        test_data = get_ml_100k_df('path/to/test_data.csv', split='test')\n",
    "    \"\"\"\n",
    "    df: Optional[DataFrame] = None\n",
    "\n",
    "    if split == \"train\":\n",
    "        df = read_csv(\n",
    "            dataset_path,\n",
    "            sep=\"\\t\",\n",
    "            header=None,\n",
    "            names=[Columns.User, Columns.Item, Columns.Weight, Columns.Datetime],\n",
    "        )\n",
    "    elif split == \"test\":\n",
    "        df = read_csv(\n",
    "            dataset_path,\n",
    "            sep=\"\\t\",\n",
    "            header=None,\n",
    "            names=[Columns.User, Columns.Item, Columns.Weight, Columns.Datetime],\n",
    "            usecols=[Columns.User, Columns.Item],\n",
    "        )\n",
    "    else:\n",
    "        raise ValueError(\"Invalid split. Use 'train' or 'test'.\")\n",
    "\n",
    "    return df"
   ]
  },
  {
   "cell_type": "code",
   "execution_count": 4,
   "metadata": {},
   "outputs": [],
   "source": [
    "model_outputs = defaultdict(list)\n",
    "\n",
    "data_interim_dir = Path(\"data/interim\")\n",
    "items = sorted(data_interim_dir.glob(\"*\"))\n",
    "\n",
    "for item in items:\n",
    "    model_name, _ = item.name.split(\".\")[0].split(\"_\")\n",
    "    model_outputs[model_name].append(read_csv(item.absolute()))"
   ]
  },
  {
   "cell_type": "code",
   "execution_count": 5,
   "metadata": {},
   "outputs": [],
   "source": [
    "data_raw_dir = Path(\"data/raw/ml-100k\")\n",
    "test_dfs = []\n",
    "\n",
    "for i in range(FOLD_NUM):\n",
    "    test_dfs.append(get_ml_100k_df(data_raw_dir / f\"u{i + 1}.test\", split=\"test\"))"
   ]
  },
  {
   "cell_type": "code",
   "execution_count": 15,
   "metadata": {},
   "outputs": [
    {
     "name": "stdout",
     "output_type": "stream",
     "text": [
      "fold=1, Acc: 0.3076\n",
      "fold=2, Acc: 0.2495\n",
      "fold=3, Acc: 0.2016\n",
      "fold=4, Acc: 0.1880\n",
      "fold=5, Acc: 0.1803\n"
     ]
    }
   ],
   "source": [
    "precision = Precision(k=K)\n",
    "\n",
    "for i in range(FOLD_NUM):\n",
    "    print(\n",
    "        f\"fold={i + 1}, Acc: {precision.calc(reco=model_outputs['light-fm-wrapper-model'][i], interactions=test_dfs[i]):0.4f}\"\n",
    "    )"
   ]
  },
  {
   "cell_type": "code",
   "execution_count": 6,
   "metadata": {},
   "outputs": [
    {
     "name": "stdout",
     "output_type": "stream",
     "text": [
      "fold=1, NDCG: 0.3252\n",
      "fold=2, NDCG: 0.2700\n",
      "fold=3, NDCG: 0.2204\n",
      "fold=4, NDCG: 0.2012\n",
      "fold=5, NDCG: 0.1946\n"
     ]
    }
   ],
   "source": [
    "ndcg = NDCG(k=K)\n",
    "\n",
    "for i in range(FOLD_NUM):\n",
    "    print(\n",
    "        f\"fold={i + 1}, NDCG: {ndcg.calc(reco=model_outputs['light-fm-wrapper-model'][i], interactions=test_dfs[i]):0.4f}\"\n",
    "    )"
   ]
  },
  {
   "cell_type": "code",
   "execution_count": null,
   "metadata": {},
   "outputs": [],
   "source": []
  }
 ],
 "metadata": {
  "kernelspec": {
   "display_name": "venv",
   "language": "python",
   "name": "python3"
  },
  "language_info": {
   "codemirror_mode": {
    "name": "ipython",
    "version": 3
   },
   "file_extension": ".py",
   "mimetype": "text/x-python",
   "name": "python",
   "nbconvert_exporter": "python",
   "pygments_lexer": "ipython3",
   "version": "3.8.14"
  }
 },
 "nbformat": 4,
 "nbformat_minor": 2
}
